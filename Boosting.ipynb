{
 "cells": [
  {
   "cell_type": "code",
   "execution_count": 42,
   "id": "e8001480-c379-4c09-bc25-c90d33ca2a4b",
   "metadata": {},
   "outputs": [],
   "source": [
    "import pandas as pd\n",
    "import matplotlib.pyplot as plt\n",
    "import seaborn as sns\n",
    "from sklearn.preprocessing import LabelEncoder\n",
    "from sklearn.model_selection import train_test_split\n",
    "from scipy.stats import uniform, randint\n",
    "from xgboost import XGBClassifier\n",
    "from catboost import CatBoostClassifier\n",
    "from sklearn.metrics import classification_report, confusion_matrix, ConfusionMatrixDisplay\n",
    "from sklearn.model_selection import GridSearchCV, RandomizedSearchCV"
   ]
  },
  {
   "cell_type": "code",
   "execution_count": 51,
   "id": "43671616-2e34-4d15-aec4-68b32dd9695d",
   "metadata": {},
   "outputs": [
    {
     "data": {
      "text/html": [
       "<div>\n",
       "<style scoped>\n",
       "    .dataframe tbody tr th:only-of-type {\n",
       "        vertical-align: middle;\n",
       "    }\n",
       "\n",
       "    .dataframe tbody tr th {\n",
       "        vertical-align: top;\n",
       "    }\n",
       "\n",
       "    .dataframe thead th {\n",
       "        text-align: right;\n",
       "    }\n",
       "</style>\n",
       "<table border=\"1\" class=\"dataframe\">\n",
       "  <thead>\n",
       "    <tr style=\"text-align: right;\">\n",
       "      <th></th>\n",
       "      <th>Marital status</th>\n",
       "      <th>Application mode</th>\n",
       "      <th>Application order</th>\n",
       "      <th>Course</th>\n",
       "      <th>\"Daytime/evening attendance\\t\"</th>\n",
       "      <th>Previous qualification</th>\n",
       "      <th>Previous qualification (grade)</th>\n",
       "      <th>Nacionality</th>\n",
       "      <th>Mother's qualification</th>\n",
       "      <th>Father's qualification</th>\n",
       "      <th>...</th>\n",
       "      <th>Curricular units 2nd sem (credited)</th>\n",
       "      <th>Curricular units 2nd sem (enrolled)</th>\n",
       "      <th>Curricular units 2nd sem (evaluations)</th>\n",
       "      <th>Curricular units 2nd sem (approved)</th>\n",
       "      <th>Curricular units 2nd sem (grade)</th>\n",
       "      <th>Curricular units 2nd sem (without evaluations)</th>\n",
       "      <th>Unemployment rate</th>\n",
       "      <th>Inflation rate</th>\n",
       "      <th>GDP</th>\n",
       "      <th>Target</th>\n",
       "    </tr>\n",
       "  </thead>\n",
       "  <tbody>\n",
       "    <tr>\n",
       "      <th>0</th>\n",
       "      <td>1</td>\n",
       "      <td>17</td>\n",
       "      <td>5</td>\n",
       "      <td>171</td>\n",
       "      <td>1</td>\n",
       "      <td>1</td>\n",
       "      <td>122.0</td>\n",
       "      <td>1</td>\n",
       "      <td>19</td>\n",
       "      <td>12</td>\n",
       "      <td>...</td>\n",
       "      <td>0</td>\n",
       "      <td>0</td>\n",
       "      <td>0</td>\n",
       "      <td>0</td>\n",
       "      <td>0.000000</td>\n",
       "      <td>0</td>\n",
       "      <td>10.8</td>\n",
       "      <td>1.4</td>\n",
       "      <td>1.74</td>\n",
       "      <td>Dropout</td>\n",
       "    </tr>\n",
       "    <tr>\n",
       "      <th>1</th>\n",
       "      <td>1</td>\n",
       "      <td>15</td>\n",
       "      <td>1</td>\n",
       "      <td>9254</td>\n",
       "      <td>1</td>\n",
       "      <td>1</td>\n",
       "      <td>160.0</td>\n",
       "      <td>1</td>\n",
       "      <td>1</td>\n",
       "      <td>3</td>\n",
       "      <td>...</td>\n",
       "      <td>0</td>\n",
       "      <td>6</td>\n",
       "      <td>6</td>\n",
       "      <td>6</td>\n",
       "      <td>13.666667</td>\n",
       "      <td>0</td>\n",
       "      <td>13.9</td>\n",
       "      <td>-0.3</td>\n",
       "      <td>0.79</td>\n",
       "      <td>Graduate</td>\n",
       "    </tr>\n",
       "    <tr>\n",
       "      <th>2</th>\n",
       "      <td>1</td>\n",
       "      <td>1</td>\n",
       "      <td>5</td>\n",
       "      <td>9070</td>\n",
       "      <td>1</td>\n",
       "      <td>1</td>\n",
       "      <td>122.0</td>\n",
       "      <td>1</td>\n",
       "      <td>37</td>\n",
       "      <td>37</td>\n",
       "      <td>...</td>\n",
       "      <td>0</td>\n",
       "      <td>6</td>\n",
       "      <td>0</td>\n",
       "      <td>0</td>\n",
       "      <td>0.000000</td>\n",
       "      <td>0</td>\n",
       "      <td>10.8</td>\n",
       "      <td>1.4</td>\n",
       "      <td>1.74</td>\n",
       "      <td>Dropout</td>\n",
       "    </tr>\n",
       "    <tr>\n",
       "      <th>3</th>\n",
       "      <td>1</td>\n",
       "      <td>17</td>\n",
       "      <td>2</td>\n",
       "      <td>9773</td>\n",
       "      <td>1</td>\n",
       "      <td>1</td>\n",
       "      <td>122.0</td>\n",
       "      <td>1</td>\n",
       "      <td>38</td>\n",
       "      <td>37</td>\n",
       "      <td>...</td>\n",
       "      <td>0</td>\n",
       "      <td>6</td>\n",
       "      <td>10</td>\n",
       "      <td>5</td>\n",
       "      <td>12.400000</td>\n",
       "      <td>0</td>\n",
       "      <td>9.4</td>\n",
       "      <td>-0.8</td>\n",
       "      <td>-3.12</td>\n",
       "      <td>Graduate</td>\n",
       "    </tr>\n",
       "    <tr>\n",
       "      <th>4</th>\n",
       "      <td>2</td>\n",
       "      <td>39</td>\n",
       "      <td>1</td>\n",
       "      <td>8014</td>\n",
       "      <td>0</td>\n",
       "      <td>1</td>\n",
       "      <td>100.0</td>\n",
       "      <td>1</td>\n",
       "      <td>37</td>\n",
       "      <td>38</td>\n",
       "      <td>...</td>\n",
       "      <td>0</td>\n",
       "      <td>6</td>\n",
       "      <td>6</td>\n",
       "      <td>6</td>\n",
       "      <td>13.000000</td>\n",
       "      <td>0</td>\n",
       "      <td>13.9</td>\n",
       "      <td>-0.3</td>\n",
       "      <td>0.79</td>\n",
       "      <td>Graduate</td>\n",
       "    </tr>\n",
       "    <tr>\n",
       "      <th>...</th>\n",
       "      <td>...</td>\n",
       "      <td>...</td>\n",
       "      <td>...</td>\n",
       "      <td>...</td>\n",
       "      <td>...</td>\n",
       "      <td>...</td>\n",
       "      <td>...</td>\n",
       "      <td>...</td>\n",
       "      <td>...</td>\n",
       "      <td>...</td>\n",
       "      <td>...</td>\n",
       "      <td>...</td>\n",
       "      <td>...</td>\n",
       "      <td>...</td>\n",
       "      <td>...</td>\n",
       "      <td>...</td>\n",
       "      <td>...</td>\n",
       "      <td>...</td>\n",
       "      <td>...</td>\n",
       "      <td>...</td>\n",
       "      <td>...</td>\n",
       "    </tr>\n",
       "    <tr>\n",
       "      <th>4419</th>\n",
       "      <td>1</td>\n",
       "      <td>1</td>\n",
       "      <td>6</td>\n",
       "      <td>9773</td>\n",
       "      <td>1</td>\n",
       "      <td>1</td>\n",
       "      <td>125.0</td>\n",
       "      <td>1</td>\n",
       "      <td>1</td>\n",
       "      <td>1</td>\n",
       "      <td>...</td>\n",
       "      <td>0</td>\n",
       "      <td>6</td>\n",
       "      <td>8</td>\n",
       "      <td>5</td>\n",
       "      <td>12.666667</td>\n",
       "      <td>0</td>\n",
       "      <td>15.5</td>\n",
       "      <td>2.8</td>\n",
       "      <td>-4.06</td>\n",
       "      <td>Graduate</td>\n",
       "    </tr>\n",
       "    <tr>\n",
       "      <th>4420</th>\n",
       "      <td>1</td>\n",
       "      <td>1</td>\n",
       "      <td>2</td>\n",
       "      <td>9773</td>\n",
       "      <td>1</td>\n",
       "      <td>1</td>\n",
       "      <td>120.0</td>\n",
       "      <td>105</td>\n",
       "      <td>1</td>\n",
       "      <td>1</td>\n",
       "      <td>...</td>\n",
       "      <td>0</td>\n",
       "      <td>6</td>\n",
       "      <td>6</td>\n",
       "      <td>2</td>\n",
       "      <td>11.000000</td>\n",
       "      <td>0</td>\n",
       "      <td>11.1</td>\n",
       "      <td>0.6</td>\n",
       "      <td>2.02</td>\n",
       "      <td>Dropout</td>\n",
       "    </tr>\n",
       "    <tr>\n",
       "      <th>4421</th>\n",
       "      <td>1</td>\n",
       "      <td>1</td>\n",
       "      <td>1</td>\n",
       "      <td>9500</td>\n",
       "      <td>1</td>\n",
       "      <td>1</td>\n",
       "      <td>154.0</td>\n",
       "      <td>1</td>\n",
       "      <td>37</td>\n",
       "      <td>37</td>\n",
       "      <td>...</td>\n",
       "      <td>0</td>\n",
       "      <td>8</td>\n",
       "      <td>9</td>\n",
       "      <td>1</td>\n",
       "      <td>13.500000</td>\n",
       "      <td>0</td>\n",
       "      <td>13.9</td>\n",
       "      <td>-0.3</td>\n",
       "      <td>0.79</td>\n",
       "      <td>Dropout</td>\n",
       "    </tr>\n",
       "    <tr>\n",
       "      <th>4422</th>\n",
       "      <td>1</td>\n",
       "      <td>1</td>\n",
       "      <td>1</td>\n",
       "      <td>9147</td>\n",
       "      <td>1</td>\n",
       "      <td>1</td>\n",
       "      <td>180.0</td>\n",
       "      <td>1</td>\n",
       "      <td>37</td>\n",
       "      <td>37</td>\n",
       "      <td>...</td>\n",
       "      <td>0</td>\n",
       "      <td>5</td>\n",
       "      <td>6</td>\n",
       "      <td>5</td>\n",
       "      <td>12.000000</td>\n",
       "      <td>0</td>\n",
       "      <td>9.4</td>\n",
       "      <td>-0.8</td>\n",
       "      <td>-3.12</td>\n",
       "      <td>Graduate</td>\n",
       "    </tr>\n",
       "    <tr>\n",
       "      <th>4423</th>\n",
       "      <td>1</td>\n",
       "      <td>10</td>\n",
       "      <td>1</td>\n",
       "      <td>9773</td>\n",
       "      <td>1</td>\n",
       "      <td>1</td>\n",
       "      <td>152.0</td>\n",
       "      <td>22</td>\n",
       "      <td>38</td>\n",
       "      <td>37</td>\n",
       "      <td>...</td>\n",
       "      <td>0</td>\n",
       "      <td>6</td>\n",
       "      <td>6</td>\n",
       "      <td>6</td>\n",
       "      <td>13.000000</td>\n",
       "      <td>0</td>\n",
       "      <td>12.7</td>\n",
       "      <td>3.7</td>\n",
       "      <td>-1.70</td>\n",
       "      <td>Graduate</td>\n",
       "    </tr>\n",
       "  </tbody>\n",
       "</table>\n",
       "<p>4424 rows × 37 columns</p>\n",
       "</div>"
      ],
      "text/plain": [
       "      Marital status  Application mode  Application order  Course  \\\n",
       "0                  1                17                  5     171   \n",
       "1                  1                15                  1    9254   \n",
       "2                  1                 1                  5    9070   \n",
       "3                  1                17                  2    9773   \n",
       "4                  2                39                  1    8014   \n",
       "...              ...               ...                ...     ...   \n",
       "4419               1                 1                  6    9773   \n",
       "4420               1                 1                  2    9773   \n",
       "4421               1                 1                  1    9500   \n",
       "4422               1                 1                  1    9147   \n",
       "4423               1                10                  1    9773   \n",
       "\n",
       "      \"Daytime/evening attendance\\t\"  Previous qualification  \\\n",
       "0                                  1                       1   \n",
       "1                                  1                       1   \n",
       "2                                  1                       1   \n",
       "3                                  1                       1   \n",
       "4                                  0                       1   \n",
       "...                              ...                     ...   \n",
       "4419                               1                       1   \n",
       "4420                               1                       1   \n",
       "4421                               1                       1   \n",
       "4422                               1                       1   \n",
       "4423                               1                       1   \n",
       "\n",
       "      Previous qualification (grade)  Nacionality  Mother's qualification  \\\n",
       "0                              122.0            1                      19   \n",
       "1                              160.0            1                       1   \n",
       "2                              122.0            1                      37   \n",
       "3                              122.0            1                      38   \n",
       "4                              100.0            1                      37   \n",
       "...                              ...          ...                     ...   \n",
       "4419                           125.0            1                       1   \n",
       "4420                           120.0          105                       1   \n",
       "4421                           154.0            1                      37   \n",
       "4422                           180.0            1                      37   \n",
       "4423                           152.0           22                      38   \n",
       "\n",
       "      Father's qualification  ...  Curricular units 2nd sem (credited)  \\\n",
       "0                         12  ...                                    0   \n",
       "1                          3  ...                                    0   \n",
       "2                         37  ...                                    0   \n",
       "3                         37  ...                                    0   \n",
       "4                         38  ...                                    0   \n",
       "...                      ...  ...                                  ...   \n",
       "4419                       1  ...                                    0   \n",
       "4420                       1  ...                                    0   \n",
       "4421                      37  ...                                    0   \n",
       "4422                      37  ...                                    0   \n",
       "4423                      37  ...                                    0   \n",
       "\n",
       "      Curricular units 2nd sem (enrolled)  \\\n",
       "0                                       0   \n",
       "1                                       6   \n",
       "2                                       6   \n",
       "3                                       6   \n",
       "4                                       6   \n",
       "...                                   ...   \n",
       "4419                                    6   \n",
       "4420                                    6   \n",
       "4421                                    8   \n",
       "4422                                    5   \n",
       "4423                                    6   \n",
       "\n",
       "      Curricular units 2nd sem (evaluations)  \\\n",
       "0                                          0   \n",
       "1                                          6   \n",
       "2                                          0   \n",
       "3                                         10   \n",
       "4                                          6   \n",
       "...                                      ...   \n",
       "4419                                       8   \n",
       "4420                                       6   \n",
       "4421                                       9   \n",
       "4422                                       6   \n",
       "4423                                       6   \n",
       "\n",
       "      Curricular units 2nd sem (approved)  Curricular units 2nd sem (grade)  \\\n",
       "0                                       0                          0.000000   \n",
       "1                                       6                         13.666667   \n",
       "2                                       0                          0.000000   \n",
       "3                                       5                         12.400000   \n",
       "4                                       6                         13.000000   \n",
       "...                                   ...                               ...   \n",
       "4419                                    5                         12.666667   \n",
       "4420                                    2                         11.000000   \n",
       "4421                                    1                         13.500000   \n",
       "4422                                    5                         12.000000   \n",
       "4423                                    6                         13.000000   \n",
       "\n",
       "      Curricular units 2nd sem (without evaluations)  Unemployment rate  \\\n",
       "0                                                  0               10.8   \n",
       "1                                                  0               13.9   \n",
       "2                                                  0               10.8   \n",
       "3                                                  0                9.4   \n",
       "4                                                  0               13.9   \n",
       "...                                              ...                ...   \n",
       "4419                                               0               15.5   \n",
       "4420                                               0               11.1   \n",
       "4421                                               0               13.9   \n",
       "4422                                               0                9.4   \n",
       "4423                                               0               12.7   \n",
       "\n",
       "      Inflation rate   GDP    Target  \n",
       "0                1.4  1.74   Dropout  \n",
       "1               -0.3  0.79  Graduate  \n",
       "2                1.4  1.74   Dropout  \n",
       "3               -0.8 -3.12  Graduate  \n",
       "4               -0.3  0.79  Graduate  \n",
       "...              ...   ...       ...  \n",
       "4419             2.8 -4.06  Graduate  \n",
       "4420             0.6  2.02   Dropout  \n",
       "4421            -0.3  0.79   Dropout  \n",
       "4422            -0.8 -3.12  Graduate  \n",
       "4423             3.7 -1.70  Graduate  \n",
       "\n",
       "[4424 rows x 37 columns]"
      ]
     },
     "execution_count": 51,
     "metadata": {},
     "output_type": "execute_result"
    }
   ],
   "source": [
    "data_raw = pd.read_csv('Student Dropout Data.csv', header=None)\n",
    "\n",
    "header_row = data_raw.iloc[0, 0]  \n",
    "column_names = header_row.split(';') \n",
    "\n",
    "data = pd.read_csv('Student Dropout Data.csv', sep=';', skiprows=1, names=column_names)\n",
    "data"
   ]
  },
  {
   "cell_type": "code",
   "execution_count": 52,
   "id": "af0bd578-a77c-40c6-99e3-6a901713cfed",
   "metadata": {},
   "outputs": [
    {
     "name": "stderr",
     "output_type": "stream",
     "text": [
      "C:\\Users\\I-An Chang\\AppData\\Local\\Temp\\ipykernel_3908\\3927710388.py:6: UserWarning: The palette list has more values (10) than needed (3), which may not be intended.\n",
      "  ax = sns.countplot(\n"
     ]
    },
    {
     "data": {
      "image/png": "[encoded data removed]",
      "text/plain": [
       "<Figure size 1000x600 with 1 Axes>"
      ]
     },
     "metadata": {},
     "output_type": "display_data"
    }
   ],
   "source": [
    "import matplotlib.pyplot as plt\n",
    "import seaborn as sns\n",
    "\n",
    "# Plot\n",
    "plt.figure(figsize=(10, 6))\n",
    "ax = sns.countplot(\n",
    "    data=data, \n",
    "    x='Target', \n",
    "    hue='Target', \n",
    "    palette=sns.color_palette(\"bright\"),\n",
    "    order=data['Target'].value_counts().index\n",
    ")\n",
    "\n",
    "# Titles and labels\n",
    "plt.title('Distribution of Student Outcomes', fontsize=16, fontweight='bold')\n",
    "plt.xlabel('Outcome Category', fontsize=14)\n",
    "plt.ylabel('Number of Students', fontsize=14)\n",
    "plt.xticks(rotation=15, fontsize=12)\n",
    "plt.yticks(fontsize=12)\n",
    "\n",
    "plt.tight_layout()\n",
    "plt.show()"
   ]
  },
  {
   "cell_type": "code",
   "execution_count": 53,
   "id": "b098721f-f581-417d-87f3-bccad38b7eb3",
   "metadata": {},
   "outputs": [
    {
     "name": "stdout",
     "output_type": "stream",
     "text": [
      "{'Dropout': 0, 'Enrolled': 1, 'Graduate': 2}\n"
     ]
    }
   ],
   "source": [
    "label_encoder = LabelEncoder()\n",
    "data['Target'] = label_encoder.fit_transform(data['Target'])\n",
    "\n",
    "# map classes to integers\n",
    "label_mapping = dict(zip(label_encoder.classes_, label_encoder.transform(label_encoder.classes_)))\n",
    "\n",
    "print(label_mapping)"
   ]
  },
  {
   "cell_type": "code",
   "execution_count": 54,
   "id": "b1ca2b46-1fb3-459e-a0a3-52d208c9129a",
   "metadata": {},
   "outputs": [],
   "source": [
    "# train-test split\n",
    "X = data.drop(columns=['Target'])\n",
    "y = data['Target']\n",
    "\n",
    "X_train, X_test, y_train, y_test = train_test_split(X, y, test_size=0.2, random_state=1234)"
   ]
  },
  {
   "cell_type": "markdown",
   "id": "de9742fd-d940-4fde-b591-49d62840b429",
   "metadata": {},
   "source": [
    "### XGBoost"
   ]
  },
  {
   "cell_type": "code",
   "execution_count": 7,
   "id": "6268bc68-3495-421a-9db1-d061b7286c80",
   "metadata": {},
   "outputs": [
    {
     "data": {
      "text/plain": [
       "{'Dropout': {'precision': 0.78515625,\n",
       "  'recall': 0.7760617760617761,\n",
       "  'f1-score': 0.7805825242718447,\n",
       "  'support': 259.0},\n",
       " 'Enrolled': {'precision': 0.5178571428571429,\n",
       "  'recall': 0.36024844720496896,\n",
       "  'f1-score': 0.4249084249084249,\n",
       "  'support': 161.0},\n",
       " 'Graduate': {'precision': 0.8259187620889749,\n",
       "  'recall': 0.9182795698924732,\n",
       "  'f1-score': 0.869653767820774,\n",
       "  'support': 465.0},\n",
       " 'accuracy': 0.7751412429378531,\n",
       " 'macro avg': {'precision': 0.7096440516487058,\n",
       "  'recall': 0.6848632643864061,\n",
       "  'f1-score': 0.6917149056670145,\n",
       "  'support': 885.0},\n",
       " 'weighted avg': {'precision': 0.7579465458998569,\n",
       "  'recall': 0.7751412429378531,\n",
       "  'f1-score': 0.7626781155178803,\n",
       "  'support': 885.0}}"
      ]
     },
     "execution_count": 7,
     "metadata": {},
     "output_type": "execute_result"
    }
   ],
   "source": [
    "xgb_model = XGBClassifier(eval_metric='mlogloss', random_state=1234)\n",
    "xgb_model.fit(X_train, y_train)\n",
    "\n",
    "# Predict and evaluate\n",
    "y_pred_xgb = xgb_model.predict(X_test)\n",
    "report_xgb = classification_report(y_test, y_pred_xgb, target_names=label_encoder.classes_, output_dict = True)\n",
    "report_xgb"
   ]
  },
  {
   "cell_type": "code",
   "execution_count": 55,
   "id": "c0d7f242-e0ff-424f-ad23-4d2ac03c0dc1",
   "metadata": {},
   "outputs": [
    {
     "name": "stdout",
     "output_type": "stream",
     "text": [
      "Fitting 5 folds for each of 50 candidates, totalling 250 fits\n",
      "Best parameters found: {'colsample_bytree': 0.7515415826539049, 'gamma': 0.0688422479534112, 'learning_rate': 0.2418479864837122, 'max_depth': 5, 'min_child_weight': 4, 'n_estimators': 843, 'reg_alpha': 3.6914338400735023, 'reg_lambda': 4.4461306585140985, 'subsample': 0.9935696511299312}\n"
     ]
    },
    {
     "data": {
      "text/plain": [
       "{'Dropout': {'precision': 0.8,\n",
       "  'recall': 0.7722007722007722,\n",
       "  'f1-score': 0.7858546168958742,\n",
       "  'support': 259.0},\n",
       " 'Enrolled': {'precision': 0.5135135135135135,\n",
       "  'recall': 0.35403726708074534,\n",
       "  'f1-score': 0.41911764705882354,\n",
       "  'support': 161.0},\n",
       " 'Graduate': {'precision': 0.8206106870229007,\n",
       "  'recall': 0.9247311827956989,\n",
       "  'f1-score': 0.8695652173913043,\n",
       "  'support': 465.0},\n",
       " 'accuracy': 0.7762711864406779,\n",
       " 'macro avg': {'precision': 0.711374733512138,\n",
       "  'recall': 0.6836564073590722,\n",
       "  'f1-score': 0.6915124937820006,\n",
       "  'support': 885.0},\n",
       " 'weighted avg': {'precision': 0.7587114634365248,\n",
       "  'recall': 0.7762711864406779,\n",
       "  'f1-score': 0.763121031683004,\n",
       "  'support': 885.0}}"
      ]
     },
     "execution_count": 55,
     "metadata": {},
     "output_type": "execute_result"
    }
   ],
   "source": [
    "# Define parameter distributions\n",
    "param_dist = {\n",
    "    'n_estimators': randint(100, 1000),\n",
    "    'max_depth': randint(3, 10),\n",
    "    'learning_rate': uniform(0.01, 0.3),\n",
    "    'subsample': uniform(0.5, 0.5),\n",
    "    'colsample_bytree': uniform(0.5, 0.5),\n",
    "    'min_child_weight': randint(1, 10),\n",
    "    'gamma': uniform(0, 5),\n",
    "    'reg_alpha': uniform(0, 5),\n",
    "    'reg_lambda': uniform(0, 5)\n",
    "}\n",
    "\n",
    "# Randomized search setup\n",
    "random_search = RandomizedSearchCV(\n",
    "    estimator=xgb_model,\n",
    "    param_distributions=param_dist,\n",
    "    n_iter=50,          # Try 50 random combinations\n",
    "    scoring='accuracy', # Or f1_macro', 'roc_auc_ovr' depending on your target\n",
    "    cv=5,              \n",
    "    verbose=2,\n",
    "    n_jobs=-1,          \n",
    "    random_state=1234\n",
    ")\n",
    "\n",
    "# Fit to training data\n",
    "random_search.fit(X_train, y_train)\n",
    "print(\"Best parameters found:\", random_search.best_params_)\n",
    "best_xgb_model = random_search.best_estimator_\n",
    "\n",
    "# Evaluate\n",
    "y_pred_best_xgb = best_xgb_model.predict(X_test)\n",
    "report_best_xgb = classification_report(y_test, y_pred_best_xgb, target_names=label_encoder.classes_, output_dict=True)\n",
    "report_best_xgb"
   ]
  },
  {
   "cell_type": "code",
   "execution_count": 56,
   "id": "52fafeba-5f5f-426a-b74a-2e49415bbdb3",
   "metadata": {},
   "outputs": [
    {
     "data": {
      "image/png": "[encoded data removed]",
      "text/plain": [
       "<Figure size 640x480 with 2 Axes>"
      ]
     },
     "metadata": {},
     "output_type": "display_data"
    }
   ],
   "source": [
    "cm_xgb_best = confusion_matrix(y_test, y_pred_best_xgb)\n",
    "disp = ConfusionMatrixDisplay(confusion_matrix=cm_xgb_best, display_labels=label_encoder.classes_)\n",
    "disp.plot(cmap='Blues', values_format='d')\n",
    "plt.title('Confusion Matrix of XGBoost Model')\n",
    "plt.show()"
   ]
  },
  {
   "cell_type": "markdown",
   "id": "1c92d0d9-825e-46c8-9353-0fd07dac29b4",
   "metadata": {},
   "source": [
    "### Catboost"
   ]
  },
  {
   "cell_type": "code",
   "execution_count": 14,
   "id": "d80d9a23-8c35-4e2c-86b9-469a790126df",
   "metadata": {},
   "outputs": [
    {
     "name": "stdout",
     "output_type": "stream",
     "text": [
      "              precision    recall  f1-score   support\n",
      "\n",
      "     Dropout       0.80      0.76      0.78       259\n",
      "    Enrolled       0.51      0.35      0.42       161\n",
      "    Graduate       0.82      0.93      0.87       465\n",
      "\n",
      "    accuracy                           0.78       885\n",
      "   macro avg       0.71      0.68      0.69       885\n",
      "weighted avg       0.76      0.78      0.76       885\n",
      "\n"
     ]
    },
    {
     "data": {
      "text/plain": [
       "{'Dropout': {'precision': 0.7951807228915663,\n",
       "  'recall': 0.7644787644787645,\n",
       "  'f1-score': 0.7795275590551181,\n",
       "  'support': 259.0},\n",
       " 'Enrolled': {'precision': 0.5089285714285714,\n",
       "  'recall': 0.35403726708074534,\n",
       "  'f1-score': 0.4175824175824176,\n",
       "  'support': 161.0},\n",
       " 'Graduate': {'precision': 0.8244274809160306,\n",
       "  'recall': 0.9290322580645162,\n",
       "  'f1-score': 0.8736097067745198,\n",
       "  'support': 465.0},\n",
       " 'accuracy': 0.7762711864406779,\n",
       " 'macro avg': {'precision': 0.709512258412056,\n",
       "  'recall': 0.682516096541342,\n",
       "  'f1-score': 0.6902398944706851,\n",
       "  'support': 885.0},\n",
       " 'weighted avg': {'precision': 0.7584724133953332,\n",
       "  'recall': 0.7762711864406779,\n",
       "  'f1-score': 0.7631151646058718,\n",
       "  'support': 885.0}}"
      ]
     },
     "execution_count": 14,
     "metadata": {},
     "output_type": "execute_result"
    }
   ],
   "source": [
    "catboost_model = CatBoostClassifier(verbose=0, random_state=1234)\n",
    "catboost_model.fit(X_train, y_train)\n",
    "\n",
    "y_pred_cat = catboost_model.predict(X_test)\n",
    "report_cat = classification_report(y_test, y_pred_cat, target_names=label_encoder.classes_, output_dict=True)\n",
    "report_cat"
   ]
  },
  {
   "cell_type": "code",
   "execution_count": 15,
   "id": "923dd0ed-bc39-48fa-af85-6455d4ae7942",
   "metadata": {},
   "outputs": [
    {
     "name": "stdout",
     "output_type": "stream",
     "text": [
      "Fitting 5 folds for each of 50 candidates, totalling 250 fits\n",
      "Best parameters: {'bagging_temperature': 0.03533422113382989, 'border_count': 164, 'depth': 7, 'iterations': 490, 'l2_leaf_reg': 5.031117055737298, 'learning_rate': 0.24479077305647257}\n",
      "              precision    recall  f1-score   support\n",
      "\n",
      "     Dropout       0.81      0.76      0.78       259\n",
      "    Enrolled       0.51      0.39      0.44       161\n",
      "    Graduate       0.82      0.92      0.87       465\n",
      "\n",
      "    accuracy                           0.78       885\n",
      "   macro avg       0.71      0.69      0.70       885\n",
      "weighted avg       0.76      0.78      0.76       885\n",
      "\n"
     ]
    }
   ],
   "source": [
    "# Define parameter space\n",
    "param_dist = {\n",
    "    'iterations': randint(100, 1000),\n",
    "    'depth': randint(4, 10),\n",
    "    'learning_rate': uniform(0.01, 0.3),\n",
    "    'l2_leaf_reg': uniform(1, 9),\n",
    "    'bagging_temperature': uniform(0, 1),\n",
    "    'border_count': randint(32, 255)\n",
    "}\n",
    "\n",
    "# Randomized search setup\n",
    "random_search = RandomizedSearchCV(\n",
    "    estimator=catboost_model,\n",
    "    param_distributions=param_dist,\n",
    "    n_iter=50,        \n",
    "    scoring='accuracy',\n",
    "    cv=5,\n",
    "    verbose=2,\n",
    "    n_jobs=-1,\n",
    "    random_state=1234\n",
    ")\n",
    "\n",
    "# Fit to the training data\n",
    "random_search.fit(X_train, y_train)\n",
    "print(\"Best parameters:\", random_search.best_params_)\n",
    "best_cat_model = random_search.best_estimator_\n",
    "\n",
    "# Evaluate\n",
    "y_pred_best_cat = best_cat_model.predict(X_test)\n",
    "print(classification_report(y_test, y_pred_best_cat, target_names=label_encoder.classes_))"
   ]
  },
  {
   "cell_type": "code",
   "execution_count": null,
   "id": "12276f77-7962-4a64-8d37-d8cd53eb4c78",
   "metadata": {},
   "outputs": [],
   "source": [
    "cm_cat_best = confusion_matrix(y_test, y_pred_best_cat)\n",
    "disp = ConfusionMatrixDisplay(confusion_matrix=cm_cat_best, display_labels=label_encoder.classes_)\n",
    "disp.plot(cmap='Blues', values_format='d')\n",
    "plt.title('Confusion Matrix of CatBoost Model')\n",
    "plt.show()"
   ]
  },
  {
   "cell_type": "markdown",
   "id": "f6fa46a3-5fdd-41f7-886a-f82301e70f95",
   "metadata": {},
   "source": [
    "### Dropout vs All"
   ]
  },
  {
   "cell_type": "code",
   "execution_count": 34,
   "id": "636497f2-0878-4f32-a132-e52e7f8b4da0",
   "metadata": {},
   "outputs": [
    {
     "data": {
      "text/plain": [
       "array(['Dropout', 'No Dropout'], dtype=object)"
      ]
     },
     "execution_count": 34,
     "metadata": {},
     "output_type": "execute_result"
    }
   ],
   "source": [
    "data = pd.read_csv('Student Dropout Data.csv', sep=';', skiprows=1, names=column_names)\n",
    "data_grouped = data.copy() \n",
    "data_grouped['Target'] = data_grouped['Target'].replace({\n",
    "    'Graduate': 'No Dropout',\n",
    "    'Enrolled': 'No Dropout'\n",
    "})\n",
    "data_grouped['Target'].unique()"
   ]
  },
  {
   "cell_type": "code",
   "execution_count": 29,
   "id": "059c4543-6c39-4c7b-bc1a-d2a595fd6f44",
   "metadata": {},
   "outputs": [
    {
     "name": "stdout",
     "output_type": "stream",
     "text": [
      "{'Dropout': 0, 'No Dropout': 1}\n"
     ]
    }
   ],
   "source": [
    "label_encoder = LabelEncoder()\n",
    "data_grouped['Target'] = label_encoder.fit_transform(data_grouped['Target'])\n",
    "\n",
    "# map classes to integers\n",
    "label_mapping = dict(zip(label_encoder.classes_, label_encoder.transform(label_encoder.classes_)))\n",
    "\n",
    "print(label_mapping)"
   ]
  },
  {
   "cell_type": "code",
   "execution_count": 30,
   "id": "5e7371b5-7f6f-46ba-9ba2-500db97f5a86",
   "metadata": {},
   "outputs": [],
   "source": [
    "# train-test split\n",
    "X = data_grouped.drop(columns=['Target'])\n",
    "y = data_grouped['Target']\n",
    "\n",
    "X_train, X_test, y_train, y_test = train_test_split(X, y, test_size=0.2, random_state=1234)"
   ]
  },
  {
   "cell_type": "code",
   "execution_count": 31,
   "id": "42c6b94a-8377-4149-8781-527f9e9b0d9a",
   "metadata": {},
   "outputs": [
    {
     "data": {
      "text/plain": [
       "{'Dropout': {'precision': 0.8533333333333334,\n",
       "  'recall': 0.7413127413127413,\n",
       "  'f1-score': 0.7933884297520661,\n",
       "  'support': 259.0},\n",
       " 'No Dropout': {'precision': 0.8984848484848484,\n",
       "  'recall': 0.9472843450479234,\n",
       "  'f1-score': 0.9222395023328149,\n",
       "  'support': 626.0},\n",
       " 'accuracy': 0.8870056497175142,\n",
       " 'macro avg': {'precision': 0.875909090909091,\n",
       "  'recall': 0.8442985431803323,\n",
       "  'f1-score': 0.8578139660424405,\n",
       "  'support': 885.0},\n",
       " 'weighted avg': {'precision': 0.8852710152371168,\n",
       "  'recall': 0.8870056497175142,\n",
       "  'f1-score': 0.8845305443685054,\n",
       "  'support': 885.0}}"
      ]
     },
     "execution_count": 31,
     "metadata": {},
     "output_type": "execute_result"
    }
   ],
   "source": [
    "xgb_model = XGBClassifier(eval_metric='mlogloss', random_state=1234)\n",
    "xgb_model.fit(X_train, y_train)\n",
    "\n",
    "# Evaluate\n",
    "y_pred_xgb = xgb_model.predict(X_test)\n",
    "report_xgb = classification_report(y_test, y_pred_xgb, target_names=label_encoder.classes_, output_dict = True)\n",
    "report_xgb"
   ]
  },
  {
   "cell_type": "code",
   "execution_count": 35,
   "id": "1577c671-a3db-45cc-a297-111c1c52c477",
   "metadata": {},
   "outputs": [
    {
     "name": "stdout",
     "output_type": "stream",
     "text": [
      "Fitting 5 folds for each of 50 candidates, totalling 250 fits\n",
      "Best parameters found: {'colsample_bytree': 0.5068556917270466, 'gamma': 2.0667479695982887, 'learning_rate': 0.07595714867473226, 'max_depth': 4, 'min_child_weight': 2, 'n_estimators': 230, 'reg_alpha': 3.506776896183465, 'reg_lambda': 3.1138829330159954, 'subsample': 0.746841322873556}\n"
     ]
    },
    {
     "data": {
      "text/plain": [
       "{'Dropout': {'precision': 0.8678414096916299,\n",
       "  'recall': 0.7606177606177607,\n",
       "  'f1-score': 0.8106995884773662,\n",
       "  'support': 259.0},\n",
       " 'No Dropout': {'precision': 0.9057750759878419,\n",
       "  'recall': 0.952076677316294,\n",
       "  'f1-score': 0.9283489096573209,\n",
       "  'support': 626.0},\n",
       " 'accuracy': 0.896045197740113,\n",
       " 'macro avg': {'precision': 0.8868082428397359,\n",
       "  'recall': 0.8563472189670274,\n",
       "  'f1-score': 0.8695242490673436,\n",
       "  'support': 885.0},\n",
       " 'weighted avg': {'precision': 0.8946735849474815,\n",
       "  'recall': 0.896045197740113,\n",
       "  'f1-score': 0.8939182043628483,\n",
       "  'support': 885.0}}"
      ]
     },
     "execution_count": 35,
     "metadata": {},
     "output_type": "execute_result"
    }
   ],
   "source": [
    "# Define parameter distributions\n",
    "param_dist = {\n",
    "    'n_estimators': randint(100, 1000),\n",
    "    'max_depth': randint(3, 10),\n",
    "    'learning_rate': uniform(0.01, 0.3),\n",
    "    'subsample': uniform(0.5, 0.5),\n",
    "    'colsample_bytree': uniform(0.5, 0.5),\n",
    "    'min_child_weight': randint(1, 10),\n",
    "    'gamma': uniform(0, 5),\n",
    "    'reg_alpha': uniform(0, 5),\n",
    "    'reg_lambda': uniform(0, 5)\n",
    "}\n",
    "\n",
    "# Randomized search setup\n",
    "random_search = RandomizedSearchCV(\n",
    "    estimator=xgb_model,\n",
    "    param_distributions=param_dist,\n",
    "    n_iter=50,          \n",
    "    scoring='accuracy', \n",
    "    cv=5,              \n",
    "    verbose=2,\n",
    "    n_jobs=-1,          \n",
    "    random_state=1234\n",
    ")\n",
    "\n",
    "# Fit to training data\n",
    "random_search.fit(X_train, y_train)\n",
    "print(\"Best parameters found:\", random_search.best_params_)\n",
    "best_xgb_model = random_search.best_estimator_\n",
    "\n",
    "# Evaluate\n",
    "y_pred_best_xgb = best_xgb_model.predict(X_test)\n",
    "report_best_xgb = classification_report(y_test, y_pred_best_xgb, target_names=label_encoder.classes_, output_dict=True)\n",
    "report_best_xgb"
   ]
  },
  {
   "cell_type": "code",
   "execution_count": 50,
   "id": "e249757b-1de7-421f-822b-e6d9492b95f5",
   "metadata": {},
   "outputs": [
    {
     "data": {
      "image/png": "[encoded data removed]",
      "text/plain": [
       "<Figure size 640x480 with 2 Axes>"
      ]
     },
     "metadata": {},
     "output_type": "display_data"
    }
   ],
   "source": [
    "cm_xgb_best = confusion_matrix(y_test, y_pred_best_xgb)\n",
    "disp = ConfusionMatrixDisplay(confusion_matrix=cm_xgb_best, display_labels=label_encoder.classes_)\n",
    "disp.plot(cmap='Blues', values_format='d')\n",
    "plt.title('Confusion Matrix of XGBoost Model')\n",
    "plt.show()"
   ]
  },
  {
   "cell_type": "code",
   "execution_count": 40,
   "id": "52341250-bce9-46fb-b383-e3001fc6f8d4",
   "metadata": {},
   "outputs": [
    {
     "data": {
      "text/plain": [
       "array([[194,  65],\n",
       "       [ 29, 597]], dtype=int64)"
      ]
     },
     "execution_count": 40,
     "metadata": {},
     "output_type": "execute_result"
    }
   ],
   "source": [
    "catboost_model = CatBoostClassifier(verbose=0, random_state=1234)\n",
    "catboost_model.fit(X_train, y_train)\n",
    "\n",
    "y_pred_cat = catboost_model.predict(X_test)\n",
    "report_cat = classification_report(y_test, y_pred_cat, target_names=label_encoder.classes_, output_dict=True)\n",
    "report_cat"
   ]
  },
  {
   "cell_type": "code",
   "execution_count": 47,
   "id": "25f76784-43a9-452f-a64e-3a2d933d9d87",
   "metadata": {},
   "outputs": [
    {
     "name": "stdout",
     "output_type": "stream",
     "text": [
      "Fitting 5 folds for each of 50 candidates, totalling 250 fits\n",
      "Best parameters: {'bagging_temperature': 0.6575517771578194, 'border_count': 196, 'depth': 5, 'iterations': 395, 'l2_leaf_reg': 6.632947760182144, 'learning_rate': 0.07610868242509339}\n"
     ]
    },
    {
     "data": {
      "text/plain": [
       "{'Dropout': {'precision': 0.8616071428571429,\n",
       "  'recall': 0.7451737451737451,\n",
       "  'f1-score': 0.7991718426501035,\n",
       "  'support': 259.0},\n",
       " 'No Dropout': {'precision': 0.9001512859304085,\n",
       "  'recall': 0.950479233226837,\n",
       "  'f1-score': 0.9246309246309247,\n",
       "  'support': 626.0},\n",
       " 'accuracy': 0.8903954802259887,\n",
       " 'macro avg': {'precision': 0.8808792143937757,\n",
       "  'recall': 0.8478264892002911,\n",
       "  'f1-score': 0.861901383640514,\n",
       "  'support': 885.0},\n",
       " 'weighted avg': {'precision': 0.8888711355846731,\n",
       "  'recall': 0.8903954802259887,\n",
       "  'f1-score': 0.8879146509212832,\n",
       "  'support': 885.0}}"
      ]
     },
     "execution_count": 47,
     "metadata": {},
     "output_type": "execute_result"
    }
   ],
   "source": [
    "# Define parameter distributions\n",
    "param_dist = {\n",
    "    'iterations': randint(100, 1000),\n",
    "    'depth': randint(4, 10),\n",
    "    'learning_rate': uniform(0.01, 0.3),\n",
    "    'l2_leaf_reg': uniform(1, 9),\n",
    "    'bagging_temperature': uniform(0, 1),\n",
    "    'border_count': randint(32, 255)\n",
    "}\n",
    "\n",
    "# Set up RandomizedSearchCV\n",
    "random_search = RandomizedSearchCV(\n",
    "    estimator=catboost_model,\n",
    "    param_distributions=param_dist,\n",
    "    n_iter=50,        \n",
    "    scoring='accuracy',\n",
    "    cv=5,\n",
    "    verbose=2,\n",
    "    n_jobs=-1,\n",
    "    random_state=1234\n",
    ")\n",
    "\n",
    "# Fit to the training data\n",
    "random_search.fit(X_train, y_train)\n",
    "print(\"Best parameters:\", random_search.best_params_)\n",
    "best_cat_model = random_search.best_estimator_\n",
    "\n",
    "# Evaluate\n",
    "y_pred_best_cat = best_cat_model.predict(X_test)\n",
    "report_cat_best = classification_report(y_test, y_pred_best_cat, target_names=label_encoder.classes_, output_dict=True)\n",
    "report_cat_best"
   ]
  },
  {
   "cell_type": "code",
   "execution_count": 49,
   "id": "64eb8e62-4339-400a-908a-5398ffc1f80d",
   "metadata": {},
   "outputs": [
    {
     "data": {
      "image/png": "[encoded data removed]",
      "text/plain": [
       "<Figure size 640x480 with 2 Axes>"
      ]
     },
     "metadata": {},
     "output_type": "display_data"
    }
   ],
   "source": [
    "cm_cat_best = confusion_matrix(y_test, y_pred_best_cat)\n",
    "disp = ConfusionMatrixDisplay(confusion_matrix=cm_cat_best, display_labels=label_encoder.classes_)\n",
    "disp.plot(cmap='Blues', values_format='d')\n",
    "plt.title('Confusion Matrix of CatBoost Model')\n",
    "plt.show()"
   ]
  },
  {
   "cell_type": "code",
   "execution_count": null,
   "id": "5f4eaedc-dc16-410e-939d-e2bda7273a14",
   "metadata": {},
   "outputs": [],
   "source": []
  }
 ],
 "metadata": {
  "kernelspec": {
   "display_name": "Python 3 (ipykernel)",
   "language": "python",
   "name": "python3"
  },
  "language_info": {
   "codemirror_mode": {
    "name": "ipython",
    "version": 3
   },
   "file_extension": ".py",
   "mimetype": "text/x-python",
   "name": "python",
   "nbconvert_exporter": "python",
   "pygments_lexer": "ipython3",
   "version": "3.12.7"
  }
 },
 "nbformat": 4,
 "nbformat_minor": 5
}
